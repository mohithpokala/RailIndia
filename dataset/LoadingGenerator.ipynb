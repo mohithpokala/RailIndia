{
 "cells": [
  {
   "cell_type": "markdown",
   "id": "8185fb04",
   "metadata": {},
   "source": [
    "# LOAD DATA"
   ]
  },
  {
   "cell_type": "code",
   "execution_count": 1,
   "id": "a90e3f50",
   "metadata": {
    "scrolled": false
   },
   "outputs": [
    {
     "name": "stderr",
     "output_type": "stream",
     "text": [
      "/var/folders/tr/x1sz6srs7j14qnlgnby6lnb00000gn/T/ipykernel_59610/1454123860.py:6: DtypeWarning: Columns (0,2,7) have mixed types. Specify dtype option on import or set low_memory=False.\n",
      "  data = pd.read_csv('../data/train.csv')\n"
     ]
    }
   ],
   "source": [
    "import json\n",
    "import pandas as pd\n",
    "from collections import defaultdict\n",
    "import random\n",
    "\n",
    "data = pd.read_csv('../data/train.csv')\n",
    "Total_distance={}"
   ]
  },
  {
   "cell_type": "code",
   "execution_count": 2,
   "id": "ef1febe7",
   "metadata": {},
   "outputs": [
    {
     "name": "stdout",
     "output_type": "stream",
     "text": [
      "['128', '290', '401', '421', '422']\n",
      "3474\n"
     ]
    }
   ],
   "source": [
    "List_of_trains = data[\"Train No\"].unique()\n",
    "Accepted_trains = [ ]\n",
    "min_distance = 200\n",
    "\n",
    "for i in List_of_trains:\n",
    "    try:\n",
    "        Total_distance = max(list(map(int, list(data[data[\"Train No\"] == i][\"Distance\"]))))\n",
    "        if(Total_distance > min_distance):\n",
    "            Accepted_trains.append(i)\n",
    "    except:\n",
    "        pass\n",
    "    \n",
    "print(Accepted_trains[:5])\n",
    "print(len(Accepted_trains))"
   ]
  },
  {
   "cell_type": "markdown",
   "id": "458d0fab",
   "metadata": {
    "scrolled": true
   },
   "source": [
    "# Subset selection of trains"
   ]
  },
  {
   "cell_type": "code",
   "execution_count": 3,
   "id": "b74a50cf",
   "metadata": {},
   "outputs": [],
   "source": [
    "\"\"\"\n",
    "    Filtering trains using the above filter\n",
    "\"\"\"\n",
    "def f(x):\n",
    "    global Accepted_trains\n",
    "    return x in Accepted_trains\n",
    "data[\"included\"] = data[\"Train No\"].apply(f)\n",
    "\n",
    "data2 = data[data[\"included\"] == True]\n",
    "# print(data2)\n",
    "data = data2"
   ]
  },
  {
   "cell_type": "code",
   "execution_count": 4,
   "id": "d6ad8e2c",
   "metadata": {},
   "outputs": [],
   "source": [
    "\"\"\"\n",
    "    Adding Stations data along with the code\n",
    "\"\"\"\n",
    "text_file = open(\"../data/stations.json\", \"r\")\n",
    "data3 = text_file.read()\n",
    "text_file.close()\n",
    "data3 = json.loads(data3)\n",
    "B = []\n",
    "\n",
    "for i in range(len(data3['features'])):\n",
    "    B.append(data3['features'][i]['properties']['code'])"
   ]
  },
  {
   "cell_type": "code",
   "execution_count": 5,
   "id": "9fade8e9",
   "metadata": {},
   "outputs": [],
   "source": [
    "with open(\"loaddata1.sql\", \"w\") as f:\n",
    "    for i in range(len(data3['features'])):\n",
    "        if data3['features'][i]['geometry'] is None:\n",
    "            text = \\\n",
    "                \"INSERT INTO station VALUES ('{}', '{}', POINT(0.0, 0.0), '{}', '{}','{}');\\n\"\\\n",
    "                .format(data3['features'][i]['properties']['code'],\\\n",
    "                    data3['features'][i]['properties']['name'],\\\n",
    "                    data3['features'][i]['properties']['code'],\\\n",
    "                    data3['features'][i]['properties']['state'],\\\n",
    "                    data3['features'][i]['properties']['address']\n",
    "                    ) \n",
    "        else:\n",
    "            text = \\\n",
    "                    \"INSERT INTO station VALUES ('{}', '{}', POINT({}, {}), '{}', '{}','{}');\\n\"\\\n",
    "                    .format(data3['features'][i]['properties']['code'],\\\n",
    "                        data3['features'][i]['properties']['name'],\\\n",
    "                        data3['features'][i]['geometry']['coordinates'][0],\\\n",
    "                        data3['features'][i]['geometry']['coordinates'][1],\\\n",
    "                        data3['features'][i]['properties']['code'],\\\n",
    "                        data3['features'][i]['properties']['state'],\\\n",
    "                        data3['features'][i]['properties']['address']\n",
    "                        ) \n",
    "        f.write(text)"
   ]
  },
  {
   "cell_type": "code",
   "execution_count": 6,
   "id": "82f8965d",
   "metadata": {},
   "outputs": [],
   "source": [
    "data[\"Train No\"]        = data[\"Train No\"].apply(int)\n",
    "data[\"Station Code\"]    = data[\"Station Code\"].apply(str)\n",
    "data[\"Arrival time\"]    = data[\"Arrival time\"].apply(str)\n",
    "data[\"Departure Time\"]  = data[\"Departure Time\"].apply(str)\n",
    "\n",
    "with open(\"loaddata3.sql\",\"w\") as f:\n",
    "    for j, i in data.iterrows():\n",
    "        try:\n",
    "            if(i['Station Code'] in B):\n",
    "                x = i['Station Code']\n",
    "            else:\n",
    "                x = 'BDHL'\n",
    "                # print(i['Station Code'])\n",
    "            L = \",\".join([str(i[\"SEQ\"]),\"'\"+str(i[\"Train No\"])+\"'\",\"'\"+x+\"'\",str(i[\"Distance\"]),str(500),\"'\"+str(i[\"Arrival time\"])+\"'\",\"'\"+str(i[\"Departure Time\"])+\"'\"])\n",
    "            s = \"INSERT INTO paths(path_id,train_no,station_id,distance_from_source,price,expected_arrival_time,expected_departure_time) VALUES(\"+L+\");\\n\"\n",
    "            f.write(s)\n",
    "        except:\n",
    "            print(i)\n",
    "            print(i[\"Train No\"]+\"\")\n",
    "            print(i[\"Station Code\"]+\"\")\n",
    "            print(str(i[\"Distance\"])+\"\")\n",
    "            print(i[\"Arrival time\"]+\"\")\n",
    "            print(i[\"Departure Time\"]+\"\")"
   ]
  },
  {
   "cell_type": "code",
   "execution_count": 7,
   "id": "09cb3bc7",
   "metadata": {},
   "outputs": [],
   "source": [
    "H=data['Train No'].value_counts()"
   ]
  },
  {
   "cell_type": "code",
   "execution_count": 8,
   "id": "d387366f",
   "metadata": {},
   "outputs": [],
   "source": [
    "data=data.drop('SEQ',axis=1)\n",
    "data=data.drop('Station Name',axis=1)\n",
    "data=data.drop('Arrival time',axis=1)\n",
    "data=data.drop('Departure Time',axis=1)\n",
    "data=data.drop('Distance',axis=1)\n",
    "data=data.drop('Station Code',axis=1)\n",
    "data=data.drop('included',axis=1)\n"
   ]
  },
  {
   "cell_type": "code",
   "execution_count": 9,
   "id": "2c0f815a",
   "metadata": {},
   "outputs": [],
   "source": [
    "data=data.drop_duplicates()"
   ]
  },
  {
   "cell_type": "code",
   "execution_count": 10,
   "id": "f3e42bea",
   "metadata": {},
   "outputs": [
    {
     "ename": "KeyError",
     "evalue": "'128'",
     "output_type": "error",
     "traceback": [
      "\u001b[0;31m---------------------------------------------------------------------------\u001b[0m",
      "\u001b[0;31mKeyError\u001b[0m                                  Traceback (most recent call last)",
      "File \u001b[0;32m/opt/homebrew/lib/python3.9/site-packages/pandas/core/indexes/base.py:3621\u001b[0m, in \u001b[0;36mIndex.get_loc\u001b[0;34m(self, key, method, tolerance)\u001b[0m\n\u001b[1;32m   <a href='file:///opt/homebrew/lib/python3.9/site-packages/pandas/core/indexes/base.py?line=3619'>3620</a>\u001b[0m \u001b[39mtry\u001b[39;00m:\n\u001b[0;32m-> <a href='file:///opt/homebrew/lib/python3.9/site-packages/pandas/core/indexes/base.py?line=3620'>3621</a>\u001b[0m     \u001b[39mreturn\u001b[39;00m \u001b[39mself\u001b[39;49m\u001b[39m.\u001b[39;49m_engine\u001b[39m.\u001b[39;49mget_loc(casted_key)\n\u001b[1;32m   <a href='file:///opt/homebrew/lib/python3.9/site-packages/pandas/core/indexes/base.py?line=3621'>3622</a>\u001b[0m \u001b[39mexcept\u001b[39;00m \u001b[39mKeyError\u001b[39;00m \u001b[39mas\u001b[39;00m err:\n",
      "File \u001b[0;32m/opt/homebrew/lib/python3.9/site-packages/pandas/_libs/index.pyx:136\u001b[0m, in \u001b[0;36mpandas._libs.index.IndexEngine.get_loc\u001b[0;34m()\u001b[0m\n",
      "File \u001b[0;32m/opt/homebrew/lib/python3.9/site-packages/pandas/_libs/index.pyx:144\u001b[0m, in \u001b[0;36mpandas._libs.index.IndexEngine.get_loc\u001b[0;34m()\u001b[0m\n",
      "File \u001b[0;32mpandas/_libs/index_class_helper.pxi:41\u001b[0m, in \u001b[0;36mpandas._libs.index.Int64Engine._check_type\u001b[0;34m()\u001b[0m\n",
      "\u001b[0;31mKeyError\u001b[0m: '128'",
      "\nThe above exception was the direct cause of the following exception:\n",
      "\u001b[0;31mKeyError\u001b[0m                                  Traceback (most recent call last)",
      "\u001b[1;32m/Users/sudhansh/Desktop/Academics/SEM6/CS387/Team Labs/project/dataset/LoadingGenerator.ipynb Cell 12'\u001b[0m in \u001b[0;36m<cell line: 1>\u001b[0;34m()\u001b[0m\n\u001b[1;32m     <a href='vscode-notebook-cell:/Users/sudhansh/Desktop/Academics/SEM6/CS387/Team%20Labs/project/dataset/LoadingGenerator.ipynb#ch0000011?line=9'>10</a>\u001b[0m \u001b[39melse\u001b[39;00m:\n\u001b[1;32m     <a href='vscode-notebook-cell:/Users/sudhansh/Desktop/Academics/SEM6/CS387/Team%20Labs/project/dataset/LoadingGenerator.ipynb#ch0000011?line=10'>11</a>\u001b[0m     y\u001b[39m=\u001b[39m\u001b[39m'\u001b[39m\u001b[39mBDHL\u001b[39m\u001b[39m'\u001b[39m\n\u001b[1;32m     <a href='vscode-notebook-cell:/Users/sudhansh/Desktop/Academics/SEM6/CS387/Team%20Labs/project/dataset/LoadingGenerator.ipynb#ch0000011?line=11'>12</a>\u001b[0m L\u001b[39m=\u001b[39m\u001b[39m\"\u001b[39m\u001b[39m,\u001b[39m\u001b[39m\"\u001b[39m\u001b[39m.\u001b[39mjoin([\n\u001b[1;32m     <a href='vscode-notebook-cell:/Users/sudhansh/Desktop/Academics/SEM6/CS387/Team%20Labs/project/dataset/LoadingGenerator.ipynb#ch0000011?line=12'>13</a>\u001b[0m     \u001b[39mstr\u001b[39m(i[\u001b[39m\"\u001b[39m\u001b[39mTrain No\u001b[39m\u001b[39m\"\u001b[39m]),\n\u001b[1;32m     <a href='vscode-notebook-cell:/Users/sudhansh/Desktop/Academics/SEM6/CS387/Team%20Labs/project/dataset/LoadingGenerator.ipynb#ch0000011?line=13'>14</a>\u001b[0m     \u001b[39m\"\u001b[39m\u001b[39m'\u001b[39m\u001b[39m\"\u001b[39m\u001b[39m+\u001b[39m\u001b[39mstr\u001b[39m(i[\u001b[39m\"\u001b[39m\u001b[39mTrain Name\u001b[39m\u001b[39m\"\u001b[39m])\u001b[39m+\u001b[39m\u001b[39m\"\u001b[39m\u001b[39m'\u001b[39m\u001b[39m\"\u001b[39m,\n\u001b[1;32m     <a href='vscode-notebook-cell:/Users/sudhansh/Desktop/Academics/SEM6/CS387/Team%20Labs/project/dataset/LoadingGenerator.ipynb#ch0000011?line=14'>15</a>\u001b[0m     \u001b[39mstr\u001b[39m(\u001b[39m5\u001b[39m),\n\u001b[0;32m---> <a href='vscode-notebook-cell:/Users/sudhansh/Desktop/Academics/SEM6/CS387/Team%20Labs/project/dataset/LoadingGenerator.ipynb#ch0000011?line=15'>16</a>\u001b[0m     \u001b[39mstr\u001b[39m(H[\u001b[39mstr\u001b[39;49m(i[\u001b[39m\"\u001b[39;49m\u001b[39mTrain No\u001b[39;49m\u001b[39m\"\u001b[39;49m])]),\n\u001b[1;32m     <a href='vscode-notebook-cell:/Users/sudhansh/Desktop/Academics/SEM6/CS387/Team%20Labs/project/dataset/LoadingGenerator.ipynb#ch0000011?line=16'>17</a>\u001b[0m     \u001b[39m\"\u001b[39m\u001b[39m'\u001b[39m\u001b[39m\"\u001b[39m\u001b[39m+\u001b[39mx\u001b[39m+\u001b[39m\u001b[39m\"\u001b[39m\u001b[39m'\u001b[39m\u001b[39m\"\u001b[39m,\n\u001b[1;32m     <a href='vscode-notebook-cell:/Users/sudhansh/Desktop/Academics/SEM6/CS387/Team%20Labs/project/dataset/LoadingGenerator.ipynb#ch0000011?line=17'>18</a>\u001b[0m     \u001b[39m\"\u001b[39m\u001b[39m'\u001b[39m\u001b[39m\"\u001b[39m\u001b[39m+\u001b[39my\u001b[39m+\u001b[39m\u001b[39m\"\u001b[39m\u001b[39m'\u001b[39m\u001b[39m\"\u001b[39m\n\u001b[1;32m     <a href='vscode-notebook-cell:/Users/sudhansh/Desktop/Academics/SEM6/CS387/Team%20Labs/project/dataset/LoadingGenerator.ipynb#ch0000011?line=18'>19</a>\u001b[0m ])\n\u001b[1;32m     <a href='vscode-notebook-cell:/Users/sudhansh/Desktop/Academics/SEM6/CS387/Team%20Labs/project/dataset/LoadingGenerator.ipynb#ch0000011?line=19'>20</a>\u001b[0m s\u001b[39m=\u001b[39m\u001b[39m\"\u001b[39m\u001b[39mINSERT INTO train(train_no,train_name,capacity,num_stations,source_id,dest_id) VALUES(\u001b[39m\u001b[39m\"\u001b[39m\u001b[39m+\u001b[39mL\u001b[39m+\u001b[39m\u001b[39m\"\u001b[39m\u001b[39m);\u001b[39m\u001b[39m\\n\u001b[39;00m\u001b[39m\"\u001b[39m\n\u001b[1;32m     <a href='vscode-notebook-cell:/Users/sudhansh/Desktop/Academics/SEM6/CS387/Team%20Labs/project/dataset/LoadingGenerator.ipynb#ch0000011?line=20'>21</a>\u001b[0m f\u001b[39m.\u001b[39mwrite(s)\n",
      "File \u001b[0;32m/opt/homebrew/lib/python3.9/site-packages/pandas/core/series.py:958\u001b[0m, in \u001b[0;36mSeries.__getitem__\u001b[0;34m(self, key)\u001b[0m\n\u001b[1;32m    <a href='file:///opt/homebrew/lib/python3.9/site-packages/pandas/core/series.py?line=954'>955</a>\u001b[0m     \u001b[39mreturn\u001b[39;00m \u001b[39mself\u001b[39m\u001b[39m.\u001b[39m_values[key]\n\u001b[1;32m    <a href='file:///opt/homebrew/lib/python3.9/site-packages/pandas/core/series.py?line=956'>957</a>\u001b[0m \u001b[39melif\u001b[39;00m key_is_scalar:\n\u001b[0;32m--> <a href='file:///opt/homebrew/lib/python3.9/site-packages/pandas/core/series.py?line=957'>958</a>\u001b[0m     \u001b[39mreturn\u001b[39;00m \u001b[39mself\u001b[39;49m\u001b[39m.\u001b[39;49m_get_value(key)\n\u001b[1;32m    <a href='file:///opt/homebrew/lib/python3.9/site-packages/pandas/core/series.py?line=959'>960</a>\u001b[0m \u001b[39mif\u001b[39;00m is_hashable(key):\n\u001b[1;32m    <a href='file:///opt/homebrew/lib/python3.9/site-packages/pandas/core/series.py?line=960'>961</a>\u001b[0m     \u001b[39m# Otherwise index.get_value will raise InvalidIndexError\u001b[39;00m\n\u001b[1;32m    <a href='file:///opt/homebrew/lib/python3.9/site-packages/pandas/core/series.py?line=961'>962</a>\u001b[0m     \u001b[39mtry\u001b[39;00m:\n\u001b[1;32m    <a href='file:///opt/homebrew/lib/python3.9/site-packages/pandas/core/series.py?line=962'>963</a>\u001b[0m         \u001b[39m# For labels that don't resolve as scalars like tuples and frozensets\u001b[39;00m\n",
      "File \u001b[0;32m/opt/homebrew/lib/python3.9/site-packages/pandas/core/series.py:1069\u001b[0m, in \u001b[0;36mSeries._get_value\u001b[0;34m(self, label, takeable)\u001b[0m\n\u001b[1;32m   <a href='file:///opt/homebrew/lib/python3.9/site-packages/pandas/core/series.py?line=1065'>1066</a>\u001b[0m     \u001b[39mreturn\u001b[39;00m \u001b[39mself\u001b[39m\u001b[39m.\u001b[39m_values[label]\n\u001b[1;32m   <a href='file:///opt/homebrew/lib/python3.9/site-packages/pandas/core/series.py?line=1067'>1068</a>\u001b[0m \u001b[39m# Similar to Index.get_value, but we do not fall back to positional\u001b[39;00m\n\u001b[0;32m-> <a href='file:///opt/homebrew/lib/python3.9/site-packages/pandas/core/series.py?line=1068'>1069</a>\u001b[0m loc \u001b[39m=\u001b[39m \u001b[39mself\u001b[39;49m\u001b[39m.\u001b[39;49mindex\u001b[39m.\u001b[39;49mget_loc(label)\n\u001b[1;32m   <a href='file:///opt/homebrew/lib/python3.9/site-packages/pandas/core/series.py?line=1069'>1070</a>\u001b[0m \u001b[39mreturn\u001b[39;00m \u001b[39mself\u001b[39m\u001b[39m.\u001b[39mindex\u001b[39m.\u001b[39m_get_values_for_loc(\u001b[39mself\u001b[39m, loc, label)\n",
      "File \u001b[0;32m/opt/homebrew/lib/python3.9/site-packages/pandas/core/indexes/base.py:3623\u001b[0m, in \u001b[0;36mIndex.get_loc\u001b[0;34m(self, key, method, tolerance)\u001b[0m\n\u001b[1;32m   <a href='file:///opt/homebrew/lib/python3.9/site-packages/pandas/core/indexes/base.py?line=3620'>3621</a>\u001b[0m     \u001b[39mreturn\u001b[39;00m \u001b[39mself\u001b[39m\u001b[39m.\u001b[39m_engine\u001b[39m.\u001b[39mget_loc(casted_key)\n\u001b[1;32m   <a href='file:///opt/homebrew/lib/python3.9/site-packages/pandas/core/indexes/base.py?line=3621'>3622</a>\u001b[0m \u001b[39mexcept\u001b[39;00m \u001b[39mKeyError\u001b[39;00m \u001b[39mas\u001b[39;00m err:\n\u001b[0;32m-> <a href='file:///opt/homebrew/lib/python3.9/site-packages/pandas/core/indexes/base.py?line=3622'>3623</a>\u001b[0m     \u001b[39mraise\u001b[39;00m \u001b[39mKeyError\u001b[39;00m(key) \u001b[39mfrom\u001b[39;00m \u001b[39merr\u001b[39;00m\n\u001b[1;32m   <a href='file:///opt/homebrew/lib/python3.9/site-packages/pandas/core/indexes/base.py?line=3623'>3624</a>\u001b[0m \u001b[39mexcept\u001b[39;00m \u001b[39mTypeError\u001b[39;00m:\n\u001b[1;32m   <a href='file:///opt/homebrew/lib/python3.9/site-packages/pandas/core/indexes/base.py?line=3624'>3625</a>\u001b[0m     \u001b[39m# If we have a listlike key, _check_indexing_error will raise\u001b[39;00m\n\u001b[1;32m   <a href='file:///opt/homebrew/lib/python3.9/site-packages/pandas/core/indexes/base.py?line=3625'>3626</a>\u001b[0m     \u001b[39m#  InvalidIndexError. Otherwise we fall through and re-raise\u001b[39;00m\n\u001b[1;32m   <a href='file:///opt/homebrew/lib/python3.9/site-packages/pandas/core/indexes/base.py?line=3626'>3627</a>\u001b[0m     \u001b[39m#  the TypeError.\u001b[39;00m\n\u001b[1;32m   <a href='file:///opt/homebrew/lib/python3.9/site-packages/pandas/core/indexes/base.py?line=3627'>3628</a>\u001b[0m     \u001b[39mself\u001b[39m\u001b[39m.\u001b[39m_check_indexing_error(key)\n",
      "\u001b[0;31mKeyError\u001b[0m: '128'"
     ]
    }
   ],
   "source": [
    "with open(\"loaddata2.sql\",\"w\") as f:\n",
    "    for j,i in data.iterrows():\n",
    "        if(0==0):\n",
    "            if(i['Source Station'] in B):\n",
    "                x=i['Source Station']\n",
    "            else:\n",
    "                x='BDHL'\n",
    "            if(i['Destination Station'] in B):\n",
    "                y=i['Destination Station']\n",
    "            else:\n",
    "                y='BDHL'\n",
    "            L=\",\".join([\n",
    "                str(i[\"Train No\"]),\n",
    "                \"'\"+str(i[\"Train Name\"])+\"'\",\n",
    "                str(5),\n",
    "                str(H[str(i[\"Train No\"])]),\n",
    "                \"'\"+x+\"'\",\n",
    "                \"'\"+y+\"'\"\n",
    "            ])\n",
    "            s=\"INSERT INTO train(train_no,train_name,capacity,num_stations,source_id,dest_id) VALUES(\"+L+\");\\n\"\n",
    "            f.write(s)\n",
    "       "
   ]
  },
  {
   "cell_type": "code",
   "execution_count": null,
   "id": "a3c97c1a",
   "metadata": {},
   "outputs": [],
   "source": [
    "import random\n",
    "import json\n",
    "\n",
    "random.seed(10)\n",
    "\n",
    "\n",
    "number_of_users=50\n",
    "number_of_bookings=100\n",
    "number_of_passengers=400\n",
    "assert(number_of_passengers>=number_of_bookings)\n",
    "with open(\"loaddata4.sql\",\"w\") as f:\n",
    "    for i in range(number_of_users):\n",
    "        f.write(\"INSERT INTO users(name,age,is_admin,phone,email,sex,password) VALUES ('{}',{},'{}','{}','{}','{}','{}');\\n\".format(i,random.randint(20,60),random.choice(['TRUE','FALSE']),random.randint(9000000000,9999999999),random.choice(['a@gmail.com','b@gmail.com']),random.choice(['M','F']),random.choice(['abcdefgh','pqrsijkl'])))\n",
    "\n",
    "    \n",
    "\n",
    "\n"
   ]
  },
  {
   "cell_type": "code",
   "execution_count": null,
   "id": "bc46d02d",
   "metadata": {},
   "outputs": [
    {
     "data": {
      "text/plain": [
       "16"
      ]
     },
     "execution_count": 15,
     "metadata": {},
     "output_type": "execute_result"
    }
   ],
   "source": [
    "H['22989']"
   ]
  },
  {
   "cell_type": "code",
   "execution_count": null,
   "id": "d99dbee6",
   "metadata": {},
   "outputs": [],
   "source": [
    "with open(\"loaddata5.sql\",\"w\") as f:\n",
    "    for i in Accepted_trains:\n",
    "        if(i!=\"22989\"):\n",
    "            for j in range(H[str(i)]):\n",
    "                for k in [\"2022-04-05\"]:\n",
    "                    if(i==\"12797\"):\n",
    "                        f.write(\"INSERT into Train_instance(journey_date,available_seats,cumulative_seats,path_id,train_no) VALUES('{}',{},{},{},{});\\n\".format(k,-5,5,j+1,i))\n",
    "                    else:\n",
    "                        f.write(\"INSERT into Train_instance(journey_date,available_seats,cumulative_seats,path_id,train_no) VALUES('{}',{},{},{},{});\\n\".format(k,5,5,j+1,i))"
   ]
  },
  {
   "cell_type": "code",
   "execution_count": null,
   "id": "b8bba218",
   "metadata": {},
   "outputs": [],
   "source": [
    "data=data2"
   ]
  },
  {
   "cell_type": "code",
   "execution_count": null,
   "id": "fa89f926",
   "metadata": {},
   "outputs": [],
   "source": [
    "p=list(data[data[\"Train No\"]==\"12797\"][\"Station Code\"])\n",
    "q=list(data[data[\"Train No\"]==\"17201\"][\"Station Code\"])"
   ]
  },
  {
   "cell_type": "code",
   "execution_count": null,
   "id": "526f8075",
   "metadata": {},
   "outputs": [
    {
     "data": {
      "text/plain": [
       "3474"
      ]
     },
     "execution_count": 24,
     "metadata": {},
     "output_type": "execute_result"
    }
   ],
   "source": [
    "len(set(Accepted_trains))"
   ]
  },
  {
   "cell_type": "code",
   "execution_count": null,
   "id": "2676d5be",
   "metadata": {},
   "outputs": [],
   "source": [
    "with open(\"loaddata6.sql\",\"w\") as f:\n",
    "    for i in range(10):\n",
    "        f.write(\"INSERT INTO Booking(train_no,journey_date,user_id,start_station,end_station) VALUES ( {},'{}',{},{},{});\\n\".format(12797,k,i+1,1,9))\n",
    "    for i in range(20,30):\n",
    "        f.write(\"INSERT INTO Booking(train_no,journey_date,user_id,start_station,end_station) VALUES ( {},'{}',{},{},{});\\n\".format(12797,k,i+1,10,21))\n",
    "            "
   ]
  },
  {
   "cell_type": "code",
   "execution_count": null,
   "id": "f04e7c85",
   "metadata": {},
   "outputs": [],
   "source": [
    "with open(\"loaddata7.sql\",\"w\") as f:\n",
    "    for i in range(10):\n",
    "        f.write(\"INSERT INTO Passenger(booking_id,name,seat_no,age,sex,waiting_pref_no) VALUES ( {},'{}',{},{},'{}',{});\\n\".format(i+1,\"random\",(5-i),20,'M',i-5))\n",
    "    for i in range(20,30):\n",
    "        f.write(\"INSERT INTO Passenger(booking_id,name,seat_no,age,sex,waiting_pref_no) VALUES ( {},'{}',{},{}, '{}',{});\\n\".format(i-9,\"random\",(5-i+20),20,'M',i-25))\n",
    "            "
   ]
  },
  {
   "cell_type": "code",
   "execution_count": null,
   "id": "578a8a0e",
   "metadata": {},
   "outputs": [],
   "source": []
  },
  {
   "cell_type": "code",
   "execution_count": null,
   "id": "785e320a",
   "metadata": {},
   "outputs": [],
   "source": []
  },
  {
   "cell_type": "code",
   "execution_count": null,
   "id": "b928e6fe",
   "metadata": {},
   "outputs": [],
   "source": []
  },
  {
   "cell_type": "code",
   "execution_count": null,
   "id": "1e6d7d42",
   "metadata": {},
   "outputs": [],
   "source": []
  }
 ],
 "metadata": {
  "kernelspec": {
   "display_name": "Python 3",
   "language": "python",
   "name": "python3"
  },
  "language_info": {
   "codemirror_mode": {
    "name": "ipython",
    "version": 3
   },
   "file_extension": ".py",
   "mimetype": "text/x-python",
   "name": "python",
   "nbconvert_exporter": "python",
   "pygments_lexer": "ipython3",
   "version": "3.9.10"
  }
 },
 "nbformat": 4,
 "nbformat_minor": 5
}
