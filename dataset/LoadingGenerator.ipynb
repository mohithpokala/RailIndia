{
 "cells": [
  {
   "cell_type": "markdown",
   "id": "8185fb04",
   "metadata": {},
   "source": [
    "# LOAD DATA"
   ]
  },
  {
   "cell_type": "code",
   "execution_count": 1,
   "id": "a90e3f50",
   "metadata": {
    "scrolled": false
   },
   "outputs": [
    {
     "name": "stderr",
     "output_type": "stream",
     "text": [
      "C:\\Users\\mohit\\Anaconda3\\lib\\site-packages\\IPython\\core\\interactiveshell.py:3165: DtypeWarning: Columns (0,2,7) have mixed types.Specify dtype option on import or set low_memory=False.\n",
      "  has_raised = await self.run_ast_nodes(code_ast.body, cell_name,\n"
     ]
    }
   ],
   "source": [
    "\n",
    "import json\n",
    "import pandas as pd\n",
    "from collections import defaultdict\n",
    "\n",
    "data = pd.read_csv('../data/train.csv')\n",
    "Total_distance={}\n",
    "\n",
    "    "
   ]
  },
  {
   "cell_type": "code",
   "execution_count": 2,
   "id": "ef1febe7",
   "metadata": {},
   "outputs": [],
   "source": [
    "List_of_trains = data[\"Train No\"].unique()\n",
    "Accepted_trains = [ ]\n",
    "for i in List_of_trains:\n",
    "    try:\n",
    "        Total_distance=max(list(map(int,list(data[data[\"Train No\"]==i][\"Distance\"]))))\n",
    "        if(Total_distance>200):\n",
    "            Accepted_trains.append(i)\n",
    "    except:\n",
    "        pass\n",
    "    \n"
   ]
  },
  {
   "cell_type": "markdown",
   "id": "458d0fab",
   "metadata": {
    "scrolled": true
   },
   "source": [
    "# Subset selection of trains"
   ]
  },
  {
   "cell_type": "code",
   "execution_count": 3,
   "id": "b74a50cf",
   "metadata": {},
   "outputs": [],
   "source": [
    "def f(x):\n",
    "    global Accepted_trains\n",
    "    return x in Accepted_trains\n",
    "data[\"included\"] = data[\"Train No\"].apply(f)"
   ]
  },
  {
   "cell_type": "code",
   "execution_count": 4,
   "id": "f5e5788a",
   "metadata": {},
   "outputs": [],
   "source": [
    "data2= data[data[\"included\"]==True]"
   ]
  },
  {
   "cell_type": "code",
   "execution_count": 5,
   "id": "0efc6ba9",
   "metadata": {
    "scrolled": true
   },
   "outputs": [
    {
     "data": {
      "text/plain": [
       "90262"
      ]
     },
     "execution_count": 5,
     "metadata": {},
     "output_type": "execute_result"
    }
   ],
   "source": [
    "len(data2)"
   ]
  },
  {
   "cell_type": "code",
   "execution_count": 6,
   "id": "72bcf888",
   "metadata": {},
   "outputs": [],
   "source": [
    "data2\n",
    "data=data2"
   ]
  },
  {
   "cell_type": "code",
   "execution_count": 7,
   "id": "d6ad8e2c",
   "metadata": {},
   "outputs": [],
   "source": [
    "import json\n",
    "\n",
    "text_file = open(\"../data/stations.json\", \"r\")\n",
    "data3 = text_file.read()\n",
    "text_file.close()\n",
    "data3  = json.loads(data3)\n",
    "B=[]\n",
    "\n",
    "for i in range(len(data3['features'])):\n",
    "    B.append(data3['features'][i]['properties']['code'])"
   ]
  },
  {
   "cell_type": "code",
   "execution_count": 8,
   "id": "9fade8e9",
   "metadata": {},
   "outputs": [],
   "source": [
    "with open(\"loaddata1.sql\",\"w\") as f:\n",
    "    for i in range(len(data3['features'])):\n",
    "        if data3['features'][i]['geometry'] is None:\n",
    "            f.write(\"INSERT INTO station VALUES ('\"+data3['features'][i]['properties']['code']+\"', '\"+str(data3['features'][i]['properties']['name'])+\"', POINT(95.95,95.95),'\"+str(data3['features'][i]['properties']['zone'])+\"','\"+str(data3['features'][i]['properties']['state'])+\"','\"+str(data3['features'][i]['properties']['address'])+\"');\\n\")\n",
    "            continue\n",
    "        f.write(\"INSERT INTO station VALUES ('\"+data3['features'][i]['properties']['code']+\"', '\"+str(data3['features'][i]['properties']['name'])+\"', POINT(\"+str(data3['features'][i]['geometry']['coordinates'][0])+\",\"+str(data3['features'][i]['geometry']['coordinates'][1])+\"),'\"+str(data3['features'][i]['properties']['zone'])+\"','\"+str(data3['features'][i]['properties']['state'])+\"','\"+str(data3['features'][i]['properties']['address'])+\"');\\n\")\n"
   ]
  },
  {
   "cell_type": "code",
   "execution_count": 9,
   "id": "82f8965d",
   "metadata": {},
   "outputs": [],
   "source": [
    "data[\"Train No\"]=data[\"Train No\"].apply(str)\n",
    "data[\"Station Code\"]=data[\"Station Code\"].apply(str)\n",
    "data[\"Arrival time\"]=data[\"Arrival time\"].apply(str)\n",
    "data[\"Departure Time\"]=data[\"Departure Time\"].apply(str)\n",
    "with open(\"loaddata3.sql\",\"w\") as f:\n",
    "    for j,i in data.iterrows():\n",
    "        try:\n",
    "            if(i['Station Code'] in B):\n",
    "                x=i['Station Code']\n",
    "            else:\n",
    "                x='BDHL'\n",
    "            L=\",\".join([str(i[\"SEQ\"]),\"'\"+str(i[\"Train No\"])+\"'\",\"'\"+x+\"'\",str(i[\"Distance\"]),str(500),\"'\"+str(i[\"Arrival time\"])+\"'\",\"'\"+str(i[\"Departure Time\"])+\"'\"])\n",
    "            s=\"INSERT INTO paths(path_id,train_no,station_id,distance_from_source,price,expected_arrival_time,expected_departure_time) VALUES(\"+L+\");\\n\"\n",
    "            f.write(s)\n",
    "        except:\n",
    "            print(i)\n",
    "            print(i[\"Train No\"]+\"\")\n",
    "            print(i[\"Station Code\"]+\"\")\n",
    "            print(str(i[\"Distance\"])+\"\")\n",
    "            print(i[\"Arrival time\"]+\"\")\n",
    "            print(i[\"Departure Time\"]+\"\")"
   ]
  },
  {
   "cell_type": "code",
   "execution_count": 10,
   "id": "09cb3bc7",
   "metadata": {},
   "outputs": [],
   "source": [
    "H=data['Train No'].value_counts()"
   ]
  },
  {
   "cell_type": "code",
   "execution_count": 11,
   "id": "d387366f",
   "metadata": {},
   "outputs": [],
   "source": [
    "data=data.drop('SEQ',axis=1)\n",
    "data=data.drop('Station Name',axis=1)\n",
    "data=data.drop('Arrival time',axis=1)\n",
    "data=data.drop('Departure Time',axis=1)\n",
    "data=data.drop('Distance',axis=1)\n",
    "data=data.drop('Station Code',axis=1)\n",
    "data=data.drop('included',axis=1)\n"
   ]
  },
  {
   "cell_type": "code",
   "execution_count": 12,
   "id": "2c0f815a",
   "metadata": {},
   "outputs": [],
   "source": [
    "data=data.drop_duplicates()"
   ]
  },
  {
   "cell_type": "code",
   "execution_count": 13,
   "id": "f3e42bea",
   "metadata": {},
   "outputs": [],
   "source": [
    "with open(\"loaddata2.sql\",\"w\") as f:\n",
    "    for j,i in data.iterrows():\n",
    "        if(0==0):\n",
    "            if(i['Source Station'] in B):\n",
    "                x=i['Source Station']\n",
    "            else:\n",
    "                x='BDHL'\n",
    "            if(i['Destination Station'] in B):\n",
    "                y=i['Destination Station']\n",
    "            else:\n",
    "                y='BDHL'\n",
    "            L=\",\".join([\n",
    "                str(i[\"Train No\"]),\n",
    "                \"'\"+str(i[\"Train Name\"])+\"'\",\n",
    "                str(5),\n",
    "                str(H[str(i[\"Train No\"])]),\n",
    "                \"'\"+x+\"'\",\n",
    "                \"'\"+y+\"'\"\n",
    "            ])\n",
    "            s=\"INSERT INTO train(train_no,train_name,capacity,num_stations,source_id,dest_id) VALUES(\"+L+\");\\n\"\n",
    "            f.write(s)\n",
    "       "
   ]
  },
  {
   "cell_type": "code",
   "execution_count": 14,
   "id": "a3c97c1a",
   "metadata": {},
   "outputs": [],
   "source": [
    "import random\n",
    "import json\n",
    "\n",
    "random.seed(10)\n",
    "\n",
    "\n",
    "number_of_users=50\n",
    "number_of_bookings=100\n",
    "number_of_passengers=400\n",
    "assert(number_of_passengers>=number_of_bookings)\n",
    "with open(\"loaddata4.sql\",\"w\") as f:\n",
    "    for i in range(number_of_users):\n",
    "        f.write(\"INSERT INTO users(name,age,is_admin,phone,email,sex,password) VALUES ('{}',{},'{}','{}','{}','{}','{}');\\n\".format(i,random.randint(20,60),random.choice(['TRUE','FALSE']),random.randint(9000000000,9999999999),random.choice(['a@gmail.com','b@gmail.com']),random.choice(['M','F']),random.choice(['abcdefgh','pqrsijkl'])))\n",
    "\n",
    "    \n",
    "\n",
    "\n"
   ]
  },
  {
   "cell_type": "code",
   "execution_count": 15,
   "id": "bc46d02d",
   "metadata": {},
   "outputs": [
    {
     "data": {
      "text/plain": [
       "16"
      ]
     },
     "execution_count": 15,
     "metadata": {},
     "output_type": "execute_result"
    }
   ],
   "source": [
    "H['22989']"
   ]
  },
  {
   "cell_type": "code",
   "execution_count": 26,
   "id": "d99dbee6",
   "metadata": {},
   "outputs": [],
   "source": [
    "with open(\"loaddata5.sql\",\"w\") as f:\n",
    "    for i in Accepted_trains:\n",
    "        if(i!=\"22989\"):\n",
    "            for j in range(H[str(i)]):\n",
    "                for k in [\"2022-04-05\"]:\n",
    "                    if(i==\"12797\"):\n",
    "                        f.write(\"INSERT into Train_instance(journey_date,available_seats,cumulative_seats,path_id,train_no) VALUES('{}',{},{},{},{});\\n\".format(k,-5,5,j+1,i))\n",
    "                    else:\n",
    "                        f.write(\"INSERT into Train_instance(journey_date,available_seats,cumulative_seats,path_id,train_no) VALUES('{}',{},{},{},{});\\n\".format(k,5,5,j+1,i))"
   ]
  },
  {
   "cell_type": "code",
   "execution_count": 17,
   "id": "b8bba218",
   "metadata": {},
   "outputs": [],
   "source": [
    "data=data2"
   ]
  },
  {
   "cell_type": "code",
   "execution_count": 18,
   "id": "fa89f926",
   "metadata": {},
   "outputs": [],
   "source": [
    "p=list(data[data[\"Train No\"]==\"12797\"][\"Station Code\"])\n",
    "q=list(data[data[\"Train No\"]==\"17201\"][\"Station Code\"])"
   ]
  },
  {
   "cell_type": "code",
   "execution_count": 24,
   "id": "526f8075",
   "metadata": {},
   "outputs": [
    {
     "data": {
      "text/plain": [
       "3474"
      ]
     },
     "execution_count": 24,
     "metadata": {},
     "output_type": "execute_result"
    }
   ],
   "source": [
    "len(set(Accepted_trains))"
   ]
  },
  {
   "cell_type": "code",
   "execution_count": 27,
   "id": "2676d5be",
   "metadata": {},
   "outputs": [],
   "source": [
    "with open(\"loaddata6.sql\",\"w\") as f:\n",
    "    for i in range(10):\n",
    "        f.write(\"INSERT INTO Booking(train_no,journey_date,user_id,start_station,end_station) VALUES ( {},'{}',{},{},{});\\n\".format(12797,k,i+1,1,9))\n",
    "    for i in range(20,30):\n",
    "        f.write(\"INSERT INTO Booking(train_no,journey_date,user_id,start_station,end_station) VALUES ( {},'{}',{},{},{});\\n\".format(12797,k,i+1,10,21))\n",
    "            "
   ]
  },
  {
   "cell_type": "code",
   "execution_count": 32,
   "id": "f04e7c85",
   "metadata": {},
   "outputs": [],
   "source": [
    "with open(\"loaddata7.sql\",\"w\") as f:\n",
    "    for i in range(10):\n",
    "        f.write(\"INSERT INTO Passenger(booking_id,name,seat_no,age,sex,waiting_pref_no) VALUES ( {},'{}',{},{},'{}',{});\\n\".format(i+1,\"random\",(5-i),20,'M',i-5))\n",
    "    for i in range(20,30):\n",
    "        f.write(\"INSERT INTO Passenger(booking_id,name,seat_no,age,sex,waiting_pref_no) VALUES ( {},'{}',{},{}, '{}',{});\\n\".format(i-9,\"random\",(5-i+20),20,'M',i-25))\n",
    "            "
   ]
  },
  {
   "cell_type": "code",
   "execution_count": null,
   "id": "578a8a0e",
   "metadata": {},
   "outputs": [],
   "source": []
  },
  {
   "cell_type": "code",
   "execution_count": null,
   "id": "785e320a",
   "metadata": {},
   "outputs": [],
   "source": []
  },
  {
   "cell_type": "code",
   "execution_count": null,
   "id": "b928e6fe",
   "metadata": {},
   "outputs": [],
   "source": []
  },
  {
   "cell_type": "code",
   "execution_count": null,
   "id": "1e6d7d42",
   "metadata": {},
   "outputs": [],
   "source": []
  }
 ],
 "metadata": {
  "kernelspec": {
   "display_name": "Python 3",
   "language": "python",
   "name": "python3"
  },
  "language_info": {
   "codemirror_mode": {
    "name": "ipython",
    "version": 3
   },
   "file_extension": ".py",
   "mimetype": "text/x-python",
   "name": "python",
   "nbconvert_exporter": "python",
   "pygments_lexer": "ipython3",
   "version": "3.8.8"
  }
 },
 "nbformat": 4,
 "nbformat_minor": 5
}
