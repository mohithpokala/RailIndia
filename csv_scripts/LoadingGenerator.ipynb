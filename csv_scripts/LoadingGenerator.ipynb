{
 "cells": [
  {
   "cell_type": "markdown",
   "id": "8185fb04",
   "metadata": {},
   "source": [
    "# LOAD DATA"
   ]
  },
  {
   "cell_type": "code",
   "execution_count": 1,
   "id": "a90e3f50",
   "metadata": {
    "scrolled": false
   },
   "outputs": [
    {
     "name": "stderr",
     "output_type": "stream",
     "text": [
      "C:\\Users\\mohit\\Anaconda3\\lib\\site-packages\\IPython\\core\\interactiveshell.py:3165: DtypeWarning: Columns (0,2,7) have mixed types.Specify dtype option on import or set low_memory=False.\n",
      "  has_raised = await self.run_ast_nodes(code_ast.body, cell_name,\n"
     ]
    }
   ],
   "source": [
    "\n",
    "import json\n",
    "import pandas as pd\n",
    "from collections import defaultdict\n",
    "\n",
    "data = pd.read_csv('Train_details_22122017.csv')\n",
    "Total_distance={}\n",
    "List_of_trains = data[\"Train No\"].unique()\n",
    "Accepted_trains = [ ]\n",
    "for i in List_of_trains:\n",
    "    try:\n",
    "        Total_distance=max(list(map(int,list(data[data[\"Train No\"]==i][\"Distance\"]))))\n",
    "        if(Total_distance>200):\n",
    "            Accepted_trains.append(i)\n",
    "    except:\n",
    "        pass\n",
    "    \n"
   ]
  },
  {
   "cell_type": "code",
   "execution_count": 2,
   "id": "d5674d37",
   "metadata": {},
   "outputs": [
    {
     "data": {
      "text/plain": [
       "11115"
      ]
     },
     "execution_count": 2,
     "metadata": {},
     "output_type": "execute_result"
    }
   ],
   "source": [
    "len(data[\"Train No\"].unique())"
   ]
  },
  {
   "cell_type": "markdown",
   "id": "458d0fab",
   "metadata": {
    "scrolled": true
   },
   "source": [
    "# Subset selection of trains"
   ]
  },
  {
   "cell_type": "code",
   "execution_count": 3,
   "id": "2831d1fa",
   "metadata": {},
   "outputs": [],
   "source": [
    "Total_distance={}\n",
    "List_of_trains = data[\"Train No\"].unique()\n",
    "Accepted_trains = [ ]\n",
    "for i in List_of_trains:\n",
    "    try:\n",
    "        Total_distance=max(list(map(int,list(data[data[\"Train No\"]==i][\"Distance\"]))))\n",
    "        if(Total_distance>200):\n",
    "            Accepted_trains.append(i)\n",
    "    except:\n",
    "        pass"
   ]
  },
  {
   "cell_type": "code",
   "execution_count": 4,
   "id": "43ed00a7",
   "metadata": {
    "scrolled": true
   },
   "outputs": [
    {
     "data": {
      "text/plain": [
       "3474"
      ]
     },
     "execution_count": 4,
     "metadata": {},
     "output_type": "execute_result"
    }
   ],
   "source": [
    "len(Accepted_trains)"
   ]
  },
  {
   "cell_type": "code",
   "execution_count": 5,
   "id": "03b0c720",
   "metadata": {},
   "outputs": [],
   "source": [
    "def f(x):\n",
    "    global Accepted_trains\n",
    "    return x in Accepted_trains\n",
    "data[\"included\"] = data[\"Train No\"].apply(f)"
   ]
  },
  {
   "cell_type": "code",
   "execution_count": 7,
   "id": "897005ad",
   "metadata": {},
   "outputs": [],
   "source": [
    "data2= data[data[\"included\"]==True]"
   ]
  },
  {
   "cell_type": "code",
   "execution_count": 8,
   "id": "9db0aa6a",
   "metadata": {
    "scrolled": true
   },
   "outputs": [
    {
     "data": {
      "text/plain": [
       "90262"
      ]
     },
     "execution_count": 8,
     "metadata": {},
     "output_type": "execute_result"
    }
   ],
   "source": [
    "len(data2)"
   ]
  },
  {
   "cell_type": "code",
   "execution_count": 19,
   "id": "5e0b12cb",
   "metadata": {},
   "outputs": [],
   "source": [
    "data2\n",
    "data=data2"
   ]
  },
  {
   "cell_type": "code",
   "execution_count": 21,
   "id": "a84fa493",
   "metadata": {},
   "outputs": [
    {
     "name": "stderr",
     "output_type": "stream",
     "text": [
      "<ipython-input-21-ee0a1e4e7789>:1: SettingWithCopyWarning: \n",
      "A value is trying to be set on a copy of a slice from a DataFrame.\n",
      "Try using .loc[row_indexer,col_indexer] = value instead\n",
      "\n",
      "See the caveats in the documentation: https://pandas.pydata.org/pandas-docs/stable/user_guide/indexing.html#returning-a-view-versus-a-copy\n",
      "  data[\"Train No\"]=data[\"Train No\"].apply(str)\n",
      "<ipython-input-21-ee0a1e4e7789>:2: SettingWithCopyWarning: \n",
      "A value is trying to be set on a copy of a slice from a DataFrame.\n",
      "Try using .loc[row_indexer,col_indexer] = value instead\n",
      "\n",
      "See the caveats in the documentation: https://pandas.pydata.org/pandas-docs/stable/user_guide/indexing.html#returning-a-view-versus-a-copy\n",
      "  data[\"Station Code\"]=data[\"Station Code\"].apply(str)\n",
      "<ipython-input-21-ee0a1e4e7789>:3: SettingWithCopyWarning: \n",
      "A value is trying to be set on a copy of a slice from a DataFrame.\n",
      "Try using .loc[row_indexer,col_indexer] = value instead\n",
      "\n",
      "See the caveats in the documentation: https://pandas.pydata.org/pandas-docs/stable/user_guide/indexing.html#returning-a-view-versus-a-copy\n",
      "  data[\"Arrival time\"]=data[\"Arrival time\"].apply(str)\n",
      "<ipython-input-21-ee0a1e4e7789>:4: SettingWithCopyWarning: \n",
      "A value is trying to be set on a copy of a slice from a DataFrame.\n",
      "Try using .loc[row_indexer,col_indexer] = value instead\n",
      "\n",
      "See the caveats in the documentation: https://pandas.pydata.org/pandas-docs/stable/user_guide/indexing.html#returning-a-view-versus-a-copy\n",
      "  data[\"Departure Time\"]=data[\"Departure Time\"].apply(str)\n"
     ]
    }
   ],
   "source": [
    "data[\"Train No\"]=data[\"Train No\"].apply(str)\n",
    "data[\"Station Code\"]=data[\"Station Code\"].apply(str)\n",
    "data[\"Arrival time\"]=data[\"Arrival time\"].apply(str)\n",
    "data[\"Departure Time\"]=data[\"Departure Time\"].apply(str)\n",
    "with open(\"../../../RAIL-DBMS/RailIndia/Path_loaddata.sql\",\"w\") as f:\n",
    "    for j,i in data.iterrows():\n",
    "        try:\n",
    "            L=\",\".join([str(i[\"SEQ\"]),\"'\"+str(i[\"Train No\"])+\"'\",\"'\"+str(i[\"Station Code\"])+\"'\",str(i[\"Distance\"]),str(500),\"'\"+str(i[\"Arrival time\"])+\"'\",\"'\"+str(i[\"Departure Time\"])+\"'\"])\n",
    "            s=\"INSERT INTO path(path_id,train_no,station_id,distance_from_source,price,expected_arrival_time,expected_departure_time) VALUES(\"+L+\");\\n\"\n",
    "            f.write(s)\n",
    "        except:\n",
    "            print(i)\n",
    "            print(i[\"Train No\"]+\"\")\n",
    "            print(i[\"Station Code\"]+\"\")\n",
    "            print(str(i[\"Distance\"])+\"\")\n",
    "            print(i[\"Arrival time\"]+\"\")\n",
    "            print(i[\"Departure Time\"]+\"\")"
   ]
  }
 ],
 "metadata": {
  "kernelspec": {
   "display_name": "Python 3",
   "language": "python",
   "name": "python3"
  },
  "language_info": {
   "codemirror_mode": {
    "name": "ipython",
    "version": 3
   },
   "file_extension": ".py",
   "mimetype": "text/x-python",
   "name": "python",
   "nbconvert_exporter": "python",
   "pygments_lexer": "ipython3",
   "version": "3.8.8"
  }
 },
 "nbformat": 4,
 "nbformat_minor": 5
}
